{
 "cells": [
  {
   "cell_type": "markdown",
   "metadata": {},
   "source": [
    "**LR：逻辑回归（Logistic Regression）**是一种用于解决二分类（0 或 1）问题的机器学习方法"
   ]
  },
  {
   "cell_type": "code",
   "execution_count": 4,
   "metadata": {},
   "outputs": [],
   "source": [
    "import pandas as pd\n",
    "import matplotlib.pyplot as plt\n",
    "import matplotlib as mpl\n",
    "import nltk.classify.util\n",
    "from sklearn.model_selection import train_test_split\n",
    "from sklearn.metrics import confusion_matrix\n",
    "from sklearn import metrics\n",
    "from sklearn.metrics import roc_curve, auc\n",
    "from nltk.classify import NaiveBayesClassifier\n",
    "import numpy as np\n",
    "import re\n",
    "import string\n",
    "import nltk\n",
    "%matplotlib inline"
   ]
  },
  {
   "cell_type": "code",
   "execution_count": 7,
   "metadata": {},
   "outputs": [],
   "source": [
    "temp = pd.read_csv('F:\\陶志远\\Jupyter Notebook\\Some Documents\\Womens Clothing E-Commerce Reviews.csv', encoding='utf-8', engine='python')"
   ]
  },
  {
   "cell_type": "code",
   "execution_count": 99,
   "metadata": {},
   "outputs": [
    {
     "name": "stdout",
     "output_type": "stream",
     "text": [
      "<class 'pandas.core.frame.DataFrame'>\n"
     ]
    }
   ],
   "source": [
    "print(type(temp))"
   ]
  },
  {
   "cell_type": "code",
   "execution_count": 13,
   "metadata": {},
   "outputs": [],
   "source": [
    "permanent = temp[['Rating', 'Review Text', 'Title', 'Age']]"
   ]
  },
  {
   "cell_type": "code",
   "execution_count": 14,
   "metadata": {},
   "outputs": [
    {
     "data": {
      "text/html": [
       "<div>\n",
       "<style scoped>\n",
       "    .dataframe tbody tr th:only-of-type {\n",
       "        vertical-align: middle;\n",
       "    }\n",
       "\n",
       "    .dataframe tbody tr th {\n",
       "        vertical-align: top;\n",
       "    }\n",
       "\n",
       "    .dataframe thead th {\n",
       "        text-align: right;\n",
       "    }\n",
       "</style>\n",
       "<table border=\"1\" class=\"dataframe\">\n",
       "  <thead>\n",
       "    <tr style=\"text-align: right;\">\n",
       "      <th></th>\n",
       "      <th>Rating</th>\n",
       "      <th>Review Text</th>\n",
       "      <th>Title</th>\n",
       "      <th>Age</th>\n",
       "    </tr>\n",
       "  </thead>\n",
       "  <tbody>\n",
       "    <tr>\n",
       "      <th>0</th>\n",
       "      <td>4</td>\n",
       "      <td>Absolutely wonderful - silky and sexy and comf...</td>\n",
       "      <td>NaN</td>\n",
       "      <td>33</td>\n",
       "    </tr>\n",
       "    <tr>\n",
       "      <th>1</th>\n",
       "      <td>5</td>\n",
       "      <td>Love this dress!  it's sooo pretty.  i happene...</td>\n",
       "      <td>NaN</td>\n",
       "      <td>34</td>\n",
       "    </tr>\n",
       "    <tr>\n",
       "      <th>2</th>\n",
       "      <td>3</td>\n",
       "      <td>I had such high hopes for this dress and reall...</td>\n",
       "      <td>Some major design flaws</td>\n",
       "      <td>60</td>\n",
       "    </tr>\n",
       "    <tr>\n",
       "      <th>3</th>\n",
       "      <td>5</td>\n",
       "      <td>I love, love, love this jumpsuit. it's fun, fl...</td>\n",
       "      <td>My favorite buy!</td>\n",
       "      <td>50</td>\n",
       "    </tr>\n",
       "    <tr>\n",
       "      <th>4</th>\n",
       "      <td>5</td>\n",
       "      <td>This shirt is very flattering to all due to th...</td>\n",
       "      <td>Flattering shirt</td>\n",
       "      <td>47</td>\n",
       "    </tr>\n",
       "  </tbody>\n",
       "</table>\n",
       "</div>"
      ],
      "text/plain": [
       "   Rating                                        Review Text  \\\n",
       "0       4  Absolutely wonderful - silky and sexy and comf...   \n",
       "1       5  Love this dress!  it's sooo pretty.  i happene...   \n",
       "2       3  I had such high hopes for this dress and reall...   \n",
       "3       5  I love, love, love this jumpsuit. it's fun, fl...   \n",
       "4       5  This shirt is very flattering to all due to th...   \n",
       "\n",
       "                     Title  Age  \n",
       "0                      NaN   33  \n",
       "1                      NaN   34  \n",
       "2  Some major design flaws   60  \n",
       "3         My favorite buy!   50  \n",
       "4         Flattering shirt   47  "
      ]
     },
     "execution_count": 14,
     "metadata": {},
     "output_type": "execute_result"
    }
   ],
   "source": [
    "permanent.head()"
   ]
  },
  {
   "cell_type": "code",
   "execution_count": 22,
   "metadata": {},
   "outputs": [
    {
     "name": "stdout",
     "output_type": "stream",
     "text": [
      "Rating            0\n",
      "Review Text     845\n",
      "Title          3810\n",
      "Age               0\n",
      "dtype: int64\n"
     ]
    },
    {
     "data": {
      "text/html": [
       "<div>\n",
       "<style scoped>\n",
       "    .dataframe tbody tr th:only-of-type {\n",
       "        vertical-align: middle;\n",
       "    }\n",
       "\n",
       "    .dataframe tbody tr th {\n",
       "        vertical-align: top;\n",
       "    }\n",
       "\n",
       "    .dataframe thead th {\n",
       "        text-align: right;\n",
       "    }\n",
       "</style>\n",
       "<table border=\"1\" class=\"dataframe\">\n",
       "  <thead>\n",
       "    <tr style=\"text-align: right;\">\n",
       "      <th></th>\n",
       "      <th>Rating</th>\n",
       "      <th>Review Text</th>\n",
       "      <th>Title</th>\n",
       "      <th>Age</th>\n",
       "    </tr>\n",
       "  </thead>\n",
       "  <tbody>\n",
       "    <tr>\n",
       "      <th>0</th>\n",
       "      <td>4</td>\n",
       "      <td>Absolutely wonderful - silky and sexy and comf...</td>\n",
       "      <td>NaN</td>\n",
       "      <td>33</td>\n",
       "    </tr>\n",
       "    <tr>\n",
       "      <th>1</th>\n",
       "      <td>5</td>\n",
       "      <td>Love this dress!  it's sooo pretty.  i happene...</td>\n",
       "      <td>NaN</td>\n",
       "      <td>34</td>\n",
       "    </tr>\n",
       "    <tr>\n",
       "      <th>2</th>\n",
       "      <td>3</td>\n",
       "      <td>I had such high hopes for this dress and reall...</td>\n",
       "      <td>Some major design flaws</td>\n",
       "      <td>60</td>\n",
       "    </tr>\n",
       "    <tr>\n",
       "      <th>3</th>\n",
       "      <td>5</td>\n",
       "      <td>I love, love, love this jumpsuit. it's fun, fl...</td>\n",
       "      <td>My favorite buy!</td>\n",
       "      <td>50</td>\n",
       "    </tr>\n",
       "    <tr>\n",
       "      <th>4</th>\n",
       "      <td>5</td>\n",
       "      <td>This shirt is very flattering to all due to th...</td>\n",
       "      <td>Flattering shirt</td>\n",
       "      <td>47</td>\n",
       "    </tr>\n",
       "    <tr>\n",
       "      <th>...</th>\n",
       "      <td>...</td>\n",
       "      <td>...</td>\n",
       "      <td>...</td>\n",
       "      <td>...</td>\n",
       "    </tr>\n",
       "    <tr>\n",
       "      <th>23481</th>\n",
       "      <td>5</td>\n",
       "      <td>I was very happy to snag this dress at such a ...</td>\n",
       "      <td>Great dress for many occasions</td>\n",
       "      <td>34</td>\n",
       "    </tr>\n",
       "    <tr>\n",
       "      <th>23482</th>\n",
       "      <td>3</td>\n",
       "      <td>It reminds me of maternity clothes. soft, stre...</td>\n",
       "      <td>Wish it was made of cotton</td>\n",
       "      <td>48</td>\n",
       "    </tr>\n",
       "    <tr>\n",
       "      <th>23483</th>\n",
       "      <td>3</td>\n",
       "      <td>This fit well, but the top was very see throug...</td>\n",
       "      <td>Cute, but see through</td>\n",
       "      <td>31</td>\n",
       "    </tr>\n",
       "    <tr>\n",
       "      <th>23484</th>\n",
       "      <td>3</td>\n",
       "      <td>I bought this dress for a wedding i have this ...</td>\n",
       "      <td>Very cute dress, perfect for summer parties an...</td>\n",
       "      <td>28</td>\n",
       "    </tr>\n",
       "    <tr>\n",
       "      <th>23485</th>\n",
       "      <td>5</td>\n",
       "      <td>This dress in a lovely platinum is feminine an...</td>\n",
       "      <td>Please make more like this one!</td>\n",
       "      <td>52</td>\n",
       "    </tr>\n",
       "  </tbody>\n",
       "</table>\n",
       "<p>23486 rows × 4 columns</p>\n",
       "</div>"
      ],
      "text/plain": [
       "       Rating                                        Review Text  \\\n",
       "0           4  Absolutely wonderful - silky and sexy and comf...   \n",
       "1           5  Love this dress!  it's sooo pretty.  i happene...   \n",
       "2           3  I had such high hopes for this dress and reall...   \n",
       "3           5  I love, love, love this jumpsuit. it's fun, fl...   \n",
       "4           5  This shirt is very flattering to all due to th...   \n",
       "...       ...                                                ...   \n",
       "23481       5  I was very happy to snag this dress at such a ...   \n",
       "23482       3  It reminds me of maternity clothes. soft, stre...   \n",
       "23483       3  This fit well, but the top was very see throug...   \n",
       "23484       3  I bought this dress for a wedding i have this ...   \n",
       "23485       5  This dress in a lovely platinum is feminine an...   \n",
       "\n",
       "                                                   Title  Age  \n",
       "0                                                    NaN   33  \n",
       "1                                                    NaN   34  \n",
       "2                                Some major design flaws   60  \n",
       "3                                       My favorite buy!   50  \n",
       "4                                       Flattering shirt   47  \n",
       "...                                                  ...  ...  \n",
       "23481                     Great dress for many occasions   34  \n",
       "23482                         Wish it was made of cotton   48  \n",
       "23483                              Cute, but see through   31  \n",
       "23484  Very cute dress, perfect for summer parties an...   28  \n",
       "23485                    Please make more like this one!   52  \n",
       "\n",
       "[23486 rows x 4 columns]"
      ]
     },
     "execution_count": 22,
     "metadata": {},
     "output_type": "execute_result"
    }
   ],
   "source": [
    "print(permanent.isnull().sum())\n",
    "permanent"
   ]
  },
  {
   "cell_type": "code",
   "execution_count": 23,
   "metadata": {},
   "outputs": [],
   "source": [
    "check = permanent[permanent['Title'].isnull()]\n",
    "senti = permanent[permanent['Title'].notnull()]"
   ]
  },
  {
   "cell_type": "code",
   "execution_count": 34,
   "metadata": {},
   "outputs": [
    {
     "name": "stderr",
     "output_type": "stream",
     "text": [
      "D:\\Software\\Anaconda3\\lib\\site-packages\\ipykernel_launcher.py:1: SettingWithCopyWarning: \n",
      "A value is trying to be set on a copy of a slice from a DataFrame.\n",
      "Try using .loc[row_indexer,col_indexer] = value instead\n",
      "\n",
      "See the caveats in the documentation: https://pandas.pydata.org/pandas-docs/stable/user_guide/indexing.html#returning-a-view-versus-a-copy\n",
      "  \"\"\"Entry point for launching an IPython kernel.\n",
      "D:\\Software\\Anaconda3\\lib\\site-packages\\ipykernel_launcher.py:2: SettingWithCopyWarning: \n",
      "A value is trying to be set on a copy of a slice from a DataFrame.\n",
      "Try using .loc[row_indexer,col_indexer] = value instead\n",
      "\n",
      "See the caveats in the documentation: https://pandas.pydata.org/pandas-docs/stable/user_guide/indexing.html#returning-a-view-versus-a-copy\n",
      "  \n"
     ]
    }
   ],
   "source": [
    "senti[\"senti\"] = senti[\"Rating\"]>=4\n",
    "senti[\"senti\"] = senti[\"senti\"].replace([True, False], ['pos', 'neg'])"
   ]
  },
  {
   "cell_type": "code",
   "execution_count": 35,
   "metadata": {},
   "outputs": [
    {
     "data": {
      "text/plain": [
       "<matplotlib.axes._subplots.AxesSubplot at 0x1efb4c48748>"
      ]
     },
     "execution_count": 35,
     "metadata": {},
     "output_type": "execute_result"
    },
    {
     "data": {
      "image/png": "[encoded data removed]",
      "text/plain": [
       "<Figure size 432x288 with 1 Axes>"
      ]
     },
     "metadata": {
      "needs_background": "light"
     },
     "output_type": "display_data"
    }
   ],
   "source": [
    "senti['senti'].value_counts().plot.bar()"
   ]
  },
  {
   "cell_type": "code",
   "execution_count": 36,
   "metadata": {},
   "outputs": [
    {
     "data": {
      "text/html": [
       "<div>\n",
       "<style scoped>\n",
       "    .dataframe tbody tr th:only-of-type {\n",
       "        vertical-align: middle;\n",
       "    }\n",
       "\n",
       "    .dataframe tbody tr th {\n",
       "        vertical-align: top;\n",
       "    }\n",
       "\n",
       "    .dataframe thead th {\n",
       "        text-align: right;\n",
       "    }\n",
       "</style>\n",
       "<table border=\"1\" class=\"dataframe\">\n",
       "  <thead>\n",
       "    <tr style=\"text-align: right;\">\n",
       "      <th></th>\n",
       "      <th>Rating</th>\n",
       "      <th>Review Text</th>\n",
       "      <th>Title</th>\n",
       "      <th>Age</th>\n",
       "      <th>senti</th>\n",
       "    </tr>\n",
       "  </thead>\n",
       "  <tbody>\n",
       "    <tr>\n",
       "      <th>2</th>\n",
       "      <td>3</td>\n",
       "      <td>I had such high hopes for this dress and reall...</td>\n",
       "      <td>Some major design flaws</td>\n",
       "      <td>60</td>\n",
       "      <td>neg</td>\n",
       "    </tr>\n",
       "    <tr>\n",
       "      <th>3</th>\n",
       "      <td>5</td>\n",
       "      <td>I love, love, love this jumpsuit. it's fun, fl...</td>\n",
       "      <td>My favorite buy!</td>\n",
       "      <td>50</td>\n",
       "      <td>pos</td>\n",
       "    </tr>\n",
       "    <tr>\n",
       "      <th>4</th>\n",
       "      <td>5</td>\n",
       "      <td>This shirt is very flattering to all due to th...</td>\n",
       "      <td>Flattering shirt</td>\n",
       "      <td>47</td>\n",
       "      <td>pos</td>\n",
       "    </tr>\n",
       "    <tr>\n",
       "      <th>5</th>\n",
       "      <td>2</td>\n",
       "      <td>I love tracy reese dresses, but this one is no...</td>\n",
       "      <td>Not for the very petite</td>\n",
       "      <td>49</td>\n",
       "      <td>neg</td>\n",
       "    </tr>\n",
       "    <tr>\n",
       "      <th>6</th>\n",
       "      <td>5</td>\n",
       "      <td>I aded this in my basket at hte last mintue to...</td>\n",
       "      <td>Cagrcoal shimmer fun</td>\n",
       "      <td>39</td>\n",
       "      <td>pos</td>\n",
       "    </tr>\n",
       "  </tbody>\n",
       "</table>\n",
       "</div>"
      ],
      "text/plain": [
       "   Rating                                        Review Text  \\\n",
       "2       3  I had such high hopes for this dress and reall...   \n",
       "3       5  I love, love, love this jumpsuit. it's fun, fl...   \n",
       "4       5  This shirt is very flattering to all due to th...   \n",
       "5       2  I love tracy reese dresses, but this one is no...   \n",
       "6       5  I aded this in my basket at hte last mintue to...   \n",
       "\n",
       "                     Title  Age senti  \n",
       "2  Some major design flaws   60   neg  \n",
       "3         My favorite buy!   50   pos  \n",
       "4         Flattering shirt   47   pos  \n",
       "5  Not for the very petite   49   neg  \n",
       "6     Cagrcoal shimmer fun   39   pos  "
      ]
     },
     "execution_count": 36,
     "metadata": {},
     "output_type": "execute_result"
    }
   ],
   "source": [
    "senti.head()"
   ]
  },
  {
   "cell_type": "markdown",
   "metadata": {},
   "source": [
    "## 正则表达式"
   ]
  },
  {
   "cell_type": "code",
   "execution_count": 41,
   "metadata": {},
   "outputs": [],
   "source": [
    "import nltk.classify.util\n",
    "from nltk.classify import NaiveBayesClassifier\n",
    "import numpy as np\n",
    "import re\n",
    "import string\n",
    "import nltk"
   ]
  },
  {
   "cell_type": "code",
   "execution_count": 68,
   "metadata": {
    "scrolled": true
   },
   "outputs": [
    {
     "name": "stderr",
     "output_type": "stream",
     "text": [
      "D:\\Software\\Anaconda3\\lib\\site-packages\\ipykernel_launcher.py:7: SettingWithCopyWarning: \n",
      "A value is trying to be set on a copy of a slice from a DataFrame.\n",
      "Try using .loc[row_indexer,col_indexer] = value instead\n",
      "\n",
      "See the caveats in the documentation: https://pandas.pydata.org/pandas-docs/stable/user_guide/indexing.html#returning-a-view-versus-a-copy\n",
      "  import sys\n",
      "D:\\Software\\Anaconda3\\lib\\site-packages\\ipykernel_launcher.py:8: SettingWithCopyWarning: \n",
      "A value is trying to be set on a copy of a slice from a DataFrame.\n",
      "Try using .loc[row_indexer,col_indexer] = value instead\n",
      "\n",
      "See the caveats in the documentation: https://pandas.pydata.org/pandas-docs/stable/user_guide/indexing.html#returning-a-view-versus-a-copy\n",
      "  \n"
     ]
    }
   ],
   "source": [
    "cleanup_re = re.compile('[^a-z]+')\n",
    "def cleanup(sentence):\n",
    "    sentence = str(sentence)\n",
    "    sentence = sentence.lower()\n",
    "    sentence = cleanup_re.sub(' ', sentence).strip()\n",
    "    return sentence\n",
    "senti[\"Summary_Clean\"] = senti[\"Review Text\"].apply(cleanup)\n",
    "check[\"Summary_Clean\"] = check[\"Review Text\"].apply(cleanup)"
   ]
  },
  {
   "cell_type": "code",
   "execution_count": 69,
   "metadata": {},
   "outputs": [],
   "source": [
    "#取 senti 数据集中的[\"Summary_Clean\",\"senti\"]，保存为 split。\n",
    "split = senti[[\"Summary_Clean\" , \"senti\"]]"
   ]
  },
  {
   "cell_type": "code",
   "execution_count": 70,
   "metadata": {},
   "outputs": [],
   "source": [
    "train = split.sample(frac = 0.8, random_state = 200)\n",
    "test = split.drop(train.index)"
   ]
  },
  {
   "cell_type": "code",
   "execution_count": 71,
   "metadata": {},
   "outputs": [],
   "source": [
    "from sklearn.naive_bayes import GaussianNB\n",
    "clf = GaussianNB()\n",
    "'''-----------------------------------------------'''\n",
    "from sklearn.naive_bayes import MultinomialNB\n",
    "clf = MultinomialNB()\n",
    "'''-----------------------------------------------------'''\n",
    "from sklearn.naive_bayes import BernoulliNB\n",
    "clf = BernoulliNB ()"
   ]
  },
  {
   "cell_type": "code",
   "execution_count": 72,
   "metadata": {},
   "outputs": [],
   "source": [
    "from wordcloud import STOPWORDS\n",
    "from sklearn.feature_extraction.text import TfidfTransformer\n",
    "from sklearn.feature_extraction.text import CountVectorizer"
   ]
  },
  {
   "cell_type": "code",
   "execution_count": 73,
   "metadata": {},
   "outputs": [
    {
     "name": "stderr",
     "output_type": "stream",
     "text": [
      "D:\\Software\\Anaconda3\\lib\\site-packages\\ipykernel_launcher.py:9: SettingWithCopyWarning: \n",
      "A value is trying to be set on a copy of a slice from a DataFrame.\n",
      "Try using .loc[row_indexer,col_indexer] = value instead\n",
      "\n",
      "See the caveats in the documentation: https://pandas.pydata.org/pandas-docs/stable/user_guide/indexing.html#returning-a-view-versus-a-copy\n",
      "  if __name__ == '__main__':\n"
     ]
    }
   ],
   "source": [
    "#将训练集、测试集和验证集中的数据转成 list，并建立 index。\n",
    "def word_feats(words):\n",
    "    features = {}\n",
    "    for word in words:\n",
    "        features [word] = True\n",
    "    return features\n",
    "train[\"words\"] = train[\"Summary_Clean\"].str.lower().str.split()\n",
    "test[\"words\"] = test[\"Summary_Clean\"].str.lower().str.split()\n",
    "check[\"words\"] = check[\"Summary_Clean\"].str.lower().str.split()\n",
    "train.index = range(train.shape[0])\n",
    "test.index = range(test.shape[0])\n",
    "check.index = range(check.shape[0])\n",
    "prediction = {}"
   ]
  },
  {
   "cell_type": "code",
   "execution_count": 74,
   "metadata": {},
   "outputs": [
    {
     "name": "stdout",
     "output_type": "stream",
     "text": [
      "NLTK Naive bayes Accuracy : 0.8175349428208386\n",
      "Most Informative Features\n",
      "               execution = True              neg : pos    =     29.9 : 1.0\n",
      "                   stain = True              neg : pos    =     29.9 : 1.0\n",
      "              unwearable = True              neg : pos    =     25.9 : 1.0\n",
      "                  poorly = True              neg : pos    =     24.7 : 1.0\n",
      "                horrible = True              neg : pos    =     22.5 : 1.0\n"
     ]
    }
   ],
   "source": [
    "#将 train[\"words\"]的所有单词对应为 True，并按照评价打分划分标准在句子后面加上 neg或 pos。\n",
    "train_naive = []\n",
    "test_naive = []\n",
    "check_naive = []\n",
    "for i in range(train.shape[0]):\n",
    "    train_naive = train_naive +[[word_feats(train[\"words\"][i]) , train[\"senti\"][i]]]\n",
    "for i in range(test.shape[0]):\n",
    "    test_naive = test_naive +[[word_feats(test[\"words\"][i]) , test[\"senti\"][i]]]\n",
    "for i in range(check.shape[0]):\n",
    "    check_naive = check_naive +[word_feats(check[\"words\"][i])]\n",
    "classifier = NaiveBayesClassifier.train(train_naive)\n",
    "print(\"NLTK Naive bayes Accuracy : {}\".format(nltk.classify.util.accuracy(classifier , test_naive)))\n",
    "classifier.show_most_informative_features(5)"
   ]
  },
  {
   "cell_type": "code",
   "execution_count": 76,
   "metadata": {},
   "outputs": [],
   "source": [
    "#使用训练好的分类器的给测试集和验证集打情感标签，预测测试集和验证集的单词词性是 pos 还是 neg。\n",
    "y =[]\n",
    "only_words= [test_naive[i][0] for i in range(test.shape[0])]\n",
    "for i in range(test.shape[0]):\n",
    "    y = y + [classifier.classify(only_words[i] )]\n",
    "prediction[\"Naive\"]= np.asarray(y)"
   ]
  },
  {
   "cell_type": "code",
   "execution_count": 77,
   "metadata": {},
   "outputs": [
    {
     "name": "stderr",
     "output_type": "stream",
     "text": [
      "D:\\Software\\Anaconda3\\lib\\site-packages\\ipykernel_launcher.py:4: SettingWithCopyWarning: \n",
      "A value is trying to be set on a copy of a slice from a DataFrame.\n",
      "Try using .loc[row_indexer,col_indexer] = value instead\n",
      "\n",
      "See the caveats in the documentation: https://pandas.pydata.org/pandas-docs/stable/user_guide/indexing.html#returning-a-view-versus-a-copy\n",
      "  after removing the cwd from sys.path.\n"
     ]
    }
   ],
   "source": [
    "y1 = []\n",
    "for i in range(check.shape[0]):\n",
    "    y1 = y1 + [classifier.classify(check_naive[i] )]\n",
    "check[\"Naive\"] = y1"
   ]
  },
  {
   "cell_type": "code",
   "execution_count": 78,
   "metadata": {},
   "outputs": [],
   "source": [
    "#原始数据集 check 没有 review.ratings 数据，从上图输出结果可看出，通过训练集建立分类器训练后，预测出每个单词词性是 pos 或 neg。\n",
    "from sklearn.naive_bayes import MultinomialNB\n",
    "stopwords = set(STOPWORDS)\n",
    "stopwords.remove(\"not\")"
   ]
  },
  {
   "cell_type": "code",
   "execution_count": 79,
   "metadata": {},
   "outputs": [
    {
     "name": "stderr",
     "output_type": "stream",
     "text": [
      "D:\\Software\\Anaconda3\\lib\\site-packages\\sklearn\\feature_extraction\\text.py:385: UserWarning: Your stop_words may be inconsistent with your preprocessing. Tokenizing the stop words generated tokens ['aren', 'couldn', 'didn', 'doesn', 'don', 'hadn', 'hasn', 'haven', 'isn', 'let', 'll', 'mustn', 're', 'shan', 'shouldn', 've', 'wasn', 'weren', 'won', 'wouldn'] not in stop_words.\n",
      "  'stop_words.' % sorted(inconsistent))\n"
     ]
    }
   ],
   "source": [
    "#整体来看，可先用CountVectorizer来提取特征，然后用TfidfTransformer计算特征的权重。\n",
    "count_vect = CountVectorizer(min_df=2 ,stop_words=stopwords , ngram_range=(1,2))\n",
    "tfidf_transformer = TfidfTransformer()\n",
    "X_train_counts = count_vect.fit_transform(train[\"Summary_Clean\"]) \n",
    "X_train_tfidf = tfidf_transformer.fit_transform(X_train_counts)\n",
    "X_new_counts = count_vect.transform(test[\"Summary_Clean\"])\n",
    "X_test_tfidf = tfidf_transformer.transform(X_new_counts)\n",
    "checkcounts = count_vect.transform(check[\"Summary_Clean\"])\n",
    "checktfidf = tfidf_transformer.transform(checkcounts)"
   ]
  },
  {
   "cell_type": "code",
   "execution_count": 80,
   "metadata": {},
   "outputs": [
    {
     "name": "stdout",
     "output_type": "stream",
     "text": [
      "Multinomial Accuracy : 0.7857687420584498\n"
     ]
    },
    {
     "name": "stderr",
     "output_type": "stream",
     "text": [
      "D:\\Software\\Anaconda3\\lib\\site-packages\\ipykernel_launcher.py:5: SettingWithCopyWarning: \n",
      "A value is trying to be set on a copy of a slice from a DataFrame.\n",
      "Try using .loc[row_indexer,col_indexer] = value instead\n",
      "\n",
      "See the caveats in the documentation: https://pandas.pydata.org/pandas-docs/stable/user_guide/indexing.html#returning-a-view-versus-a-copy\n",
      "  \"\"\"\n"
     ]
    }
   ],
   "source": [
    "#根据 tfidf_transformer 保留了重要词汇后，构建 MultinomialNB 模型\n",
    "model1 = MultinomialNB().fit(X_train_tfidf , train[\"senti\"])\n",
    "prediction['Multinomial'] = model1.predict_proba(X_test_tfidf)[:,1]\n",
    "print(\"Multinomial Accuracy : {}\".format(model1.score(X_test_tfidf , test[\"senti\"])))\n",
    "check[\"multi\"] = model1.predict(checktfidf)"
   ]
  },
  {
   "cell_type": "code",
   "execution_count": 81,
   "metadata": {},
   "outputs": [
    {
     "name": "stdout",
     "output_type": "stream",
     "text": [
      "Bernoulli Accuracy : 0.8612452350698856\n"
     ]
    },
    {
     "name": "stderr",
     "output_type": "stream",
     "text": [
      "D:\\Software\\Anaconda3\\lib\\site-packages\\ipykernel_launcher.py:6: SettingWithCopyWarning: \n",
      "A value is trying to be set on a copy of a slice from a DataFrame.\n",
      "Try using .loc[row_indexer,col_indexer] = value instead\n",
      "\n",
      "See the caveats in the documentation: https://pandas.pydata.org/pandas-docs/stable/user_guide/indexing.html#returning-a-view-versus-a-copy\n",
      "  \n"
     ]
    }
   ],
   "source": [
    "#根据 tfidf_transformer 保留了重要词汇后，构建 Fit BernoulliNB 模型。\n",
    "from sklearn.naive_bayes import BernoulliNB\n",
    "model2 = BernoulliNB().fit(X_train_tfidf,train[\"senti\"])\n",
    "prediction['Bernoulli'] = model2.predict_proba(X_test_tfidf)[:,1]\n",
    "print(\"Bernoulli Accuracy : {}\".format(model2.score(X_test_tfidf , test[\"senti\"])))\n",
    "check[\"Bill\"] = model2.predict(checktfidf)"
   ]
  },
  {
   "cell_type": "code",
   "execution_count": 82,
   "metadata": {},
   "outputs": [
    {
     "name": "stdout",
     "output_type": "stream",
     "text": [
      "Logistic Regression Accuracy : 0.8861499364675984\n"
     ]
    },
    {
     "name": "stderr",
     "output_type": "stream",
     "text": [
      "D:\\Software\\Anaconda3\\lib\\site-packages\\sklearn\\linear_model\\_logistic.py:940: ConvergenceWarning: lbfgs failed to converge (status=1):\n",
      "STOP: TOTAL NO. of ITERATIONS REACHED LIMIT.\n",
      "\n",
      "Increase the number of iterations (max_iter) or scale the data as shown in:\n",
      "    https://scikit-learn.org/stable/modules/preprocessing.html\n",
      "Please also refer to the documentation for alternative solver options:\n",
      "    https://scikit-learn.org/stable/modules/linear_model.html#logistic-regression\n",
      "  extra_warning_msg=_LOGISTIC_SOLVER_CONVERGENCE_MSG)\n",
      "D:\\Software\\Anaconda3\\lib\\site-packages\\ipykernel_launcher.py:7: SettingWithCopyWarning: \n",
      "A value is trying to be set on a copy of a slice from a DataFrame.\n",
      "Try using .loc[row_indexer,col_indexer] = value instead\n",
      "\n",
      "See the caveats in the documentation: https://pandas.pydata.org/pandas-docs/stable/user_guide/indexing.html#returning-a-view-versus-a-copy\n",
      "  import sys\n"
     ]
    }
   ],
   "source": [
    "#根据 tfidf_transformer 保留了重要词汇后，构建 Fit LR 模型。\n",
    "from sklearn import linear_model\n",
    "logreg = linear_model.LogisticRegression(solver='lbfgs' , C=1000)\n",
    "logistic = logreg.fit(X_train_tfidf, train[\"senti\"])\n",
    "prediction['LogisticRegression'] = logreg.predict_proba(X_test_tfidf)[:,1]\n",
    "print(\"Logistic Regression Accuracy : {}\".format(logreg.score(X_test_tfidf , test[\"senti\"])))\n",
    "check[\"log\"] = logreg.predict(checktfidf)"
   ]
  },
  {
   "cell_type": "code",
   "execution_count": 87,
   "metadata": {},
   "outputs": [
    {
     "name": "stdout",
     "output_type": "stream",
     "text": [
      "Sample estimated as POS: negative prob 0.183276, positive prob 0.816724\n",
      "Sample estimated as NEG: negative prob 0.999733, positive prob 0.000267\n",
      "Sample estimated as NEG: negative prob 0.999988, positive prob 0.000012\n"
     ]
    }
   ],
   "source": [
    "words = count_vect.get_feature_names()\n",
    "feature_coefs = pd.DataFrame(\n",
    "    data = list(zip(words, logistic.coef_[0])),\n",
    "    columns = ['feature', 'coef'])\n",
    "feature_coefs.sort_values(by=\"coef\")\n",
    "def formatt(x):\n",
    "    if x == 'neg':\n",
    "         return 0\n",
    "    if x == 0:\n",
    "        return 0\n",
    "    return 1\n",
    "vfunc = np.vectorize(formatt)\n",
    "test.senti = test.senti.replace([\"pos\",\"neg\"],[True,False] )\n",
    "def test_sample(model,sample):\n",
    "    sample_counts = count_vect.transform([sample])\n",
    "    sample_tfidf = tfidf_transformer.transform(sample_counts)\n",
    "    result = model.predict(sample_tfidf)[0]\n",
    "    prob = model.predict_proba(sample_tfidf)[0]\n",
    "    print(\"Sample estimated as %s: negative prob %f, positive prob %f\" % (result.upper(), prob[0], prob[1]))\n",
    "test_sample(logreg, \"The product was good and easy to use\")\n",
    "test_sample(logreg, \"the whole experience was horrible and product is worst\")\n",
    "test_sample(logreg, \"product is not good\")"
   ]
  },
  {
   "cell_type": "code",
   "execution_count": 98,
   "metadata": {},
   "outputs": [
    {
     "data": {
      "image/png": "[encoded data removed]",
      "text/plain": [
       "<Figure size 1080x1080 with 1 Axes>"
      ]
     },
     "metadata": {
      "needs_background": "light"
     },
     "output_type": "display_data"
    }
   ],
   "source": [
    "from wordcloud import WordCloud, STOPWORDS\n",
    "stopwords = set(STOPWORDS)\n",
    "mpl.rcParams['font.size']=12 #10 \n",
    "mpl.rcParams['savefig.dpi']=100 #72 \n",
    "mpl.rcParams['figure.subplot.bottom']=.1 \n",
    "def show_wordcloud(data, title = None):\n",
    "    wordcloud = WordCloud(\n",
    "        background_color='white',\n",
    "        stopwords=stopwords,\n",
    "        max_words=300,\n",
    "        max_font_size=40, \n",
    "        scale=3,\n",
    "        random_state=1 # chosen at random by flipping a coin; it was heads\n",
    "        ).generate(str(data))\n",
    " \n",
    "    fig = plt.figure(1, figsize=(15, 15))\n",
    "    plt.axis('off')\n",
    "    if title: \n",
    "        fig.suptitle(title, fontsize=20)\n",
    "        fig.subplots_adjust(top=2.3)\n",
    "    plt.imshow(wordcloud)\n",
    "    plt.show()\n",
    "show_wordcloud(senti[\"Summary_Clean\"])"
   ]
  },
  {
   "cell_type": "code",
   "execution_count": null,
   "metadata": {},
   "outputs": [],
   "source": []
  },
  {
   "cell_type": "markdown",
   "metadata": {},
   "source": [
    "# 步骤"
   ]
  },
  {
   "cell_type": "markdown",
   "metadata": {},
   "source": [
    "1、开发流程\n",
    "\n",
    "    1）获取数据集\n",
    "    \n",
    "    2）数据预处理（缺失值处理、异常值处理、不均衡数据处理...）\n",
    "    \n",
    "    3）创建模型\n",
    "    \n",
    "    4）模型训练和模型测试\n",
    "    \n",
    "    5）模型部署\n",
    "    \n",
    "2、数据集处理\n",
    "\n",
    "    情感分析的数据集一般面临不均衡数据的问题，会影响分析效果,比如不同极性的评论数量差距太大（比如 10^6 好评 vs10^4 差评），会导致分类器模型参数异常。\n",
    "    \n",
    "    解决方式：重抽样或采用代价敏感学习。\n",
    "3、主要分析方法\n",
    "    \n",
    "    实验采用3种模型：LogisticRegression、Multinomial NB 和 Bernouli NB，分别输出 3 种模型的 ROC，比较哪种模型更适合此数据集。"
   ]
  },
  {
   "cell_type": "code",
   "execution_count": null,
   "metadata": {},
   "outputs": [],
   "source": []
  }
 ],
 "metadata": {
  "kernelspec": {
   "display_name": "Python 3 (ipykernel)",
   "language": "python",
   "name": "python3"
  },
  "language_info": {
   "codemirror_mode": {
    "name": "ipython",
    "version": 3
   },
   "file_extension": ".py",
   "mimetype": "text/x-python",
   "name": "python",
   "nbconvert_exporter": "python",
   "pygments_lexer": "ipython3",
   "version": "3.9.7"
  }
 },
 "nbformat": 4,
 "nbformat_minor": 4
}
