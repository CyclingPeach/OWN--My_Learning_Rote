{
 "cells": [
  {
   "cell_type": "markdown",
   "metadata": {},
   "source": [
    "# 一、在线测评"
   ]
  },
  {
   "cell_type": "markdown",
   "metadata": {},
   "source": [
    "在线评测：\n",
    "给定一段话\n",
    "“苏伦大数据科技研究院由英国皇家工程院院士、欧洲科学院院士、英国帝国理工学院终身教授郭毅可创立并担任院长，旨在建设成专业的新型研发机构，打造全球首个以AI人工智能教育、BI商业智能赋能、GI全球创新孵化为核心的O2O大数据科技生态系统。\" \n",
    "\n",
    "**请用实验平台将这段话提取关键词**\n",
    "1.使用**精确模式分词**、并过滤掉文本当中的停用词\n",
    "2.使用**TFIDF**提取关键词\n",
    "3.使用**TextRank**提取关键词"
   ]
  },
  {
   "cell_type": "markdown",
   "metadata": {},
   "source": [
    "# 二、在线测评答案[待定]"
   ]
  },
  {
   "cell_type": "markdown",
   "metadata": {},
   "source": [
    "### 2.1 代码"
   ]
  },
  {
   "cell_type": "markdown",
   "metadata": {},
   "source": [
    "见：【解答过程】"
   ]
  },
  {
   "cell_type": "markdown",
   "metadata": {},
   "source": [
    "# 三、解答过程[不严谨]"
   ]
  },
  {
   "cell_type": "code",
   "execution_count": 60,
   "metadata": {},
   "outputs": [],
   "source": [
    "import jieba\n",
    "import pandas as pd\n",
    "from jieba import analyse\n",
    "\n",
    "text = '''苏伦大数据科技研究院由英国皇家工程院院士、欧洲科学院院士、英国帝国理工学院终身教授郭毅可创立并担任院长，旨在建设成专业的新型研发机构，打造全球首个以AI人工智能教育、BI商业智能赋能、GI全球创新孵化为核心的O2O大数据科技生态系统。'''"
   ]
  },
  {
   "cell_type": "markdown",
   "metadata": {},
   "source": [
    "#### 1.1、精确模式分词"
   ]
  },
  {
   "cell_type": "code",
   "execution_count": 77,
   "metadata": {
    "scrolled": true
   },
   "outputs": [
    {
     "data": {
      "text/plain": [
       "['苏伦大',\n",
       " '数据',\n",
       " '科技',\n",
       " '研究院',\n",
       " '由',\n",
       " '英国皇家',\n",
       " '工程院',\n",
       " '院士',\n",
       " '、',\n",
       " '欧洲',\n",
       " '科学院',\n",
       " '院士',\n",
       " '、',\n",
       " '英国',\n",
       " '帝国',\n",
       " '理工学院',\n",
       " '终身',\n",
       " '教授',\n",
       " '郭毅',\n",
       " '可',\n",
       " '创立',\n",
       " '并',\n",
       " '担任',\n",
       " '院长',\n",
       " '，',\n",
       " '旨在',\n",
       " '建设',\n",
       " '成',\n",
       " '专业',\n",
       " '的',\n",
       " '新型',\n",
       " '研发',\n",
       " '机构',\n",
       " '，',\n",
       " '打造',\n",
       " '全球',\n",
       " '首个',\n",
       " '以',\n",
       " 'AI',\n",
       " '人工智能',\n",
       " '教育',\n",
       " '、',\n",
       " 'BI',\n",
       " '商业智能',\n",
       " '赋能',\n",
       " '、',\n",
       " 'GI',\n",
       " '全球',\n",
       " '创新',\n",
       " '孵化',\n",
       " '为',\n",
       " '核心',\n",
       " '的',\n",
       " 'O2O',\n",
       " '大',\n",
       " '数据',\n",
       " '科技',\n",
       " '生态系统',\n",
       " '。']"
      ]
     },
     "execution_count": 77,
     "metadata": {},
     "output_type": "execute_result"
    }
   ],
   "source": [
    "data = jieba.cut(text, cut_all = False)\n",
    "data = '|'.join(data)\n",
    "data = data.split('|')\n",
    "data"
   ]
  },
  {
   "cell_type": "markdown",
   "metadata": {},
   "source": [
    "#### 1.2、过滤文本中的停用词"
   ]
  },
  {
   "cell_type": "code",
   "execution_count": 22,
   "metadata": {},
   "outputs": [],
   "source": [
    "import jieba\n",
    "import pandas as pd\n",
    "from jieba import analyse"
   ]
  },
  {
   "cell_type": "code",
   "execution_count": 82,
   "metadata": {
    "scrolled": true
   },
   "outputs": [
    {
     "data": {
      "text/plain": [
       "['0', '1', '2', '3', '4']"
      ]
     },
     "execution_count": 82,
     "metadata": {},
     "output_type": "execute_result"
    }
   ],
   "source": [
    "import pandas as pd\n",
    "stopwords = pd.read_csv(r'C:\\Users\\TaoZhiyuan\\Desktop\\交付任务\\任务二\\【顺序-2】{开发中}（2）关键词抽取\\stopwords.txt')\n",
    "stopwords = list(stopwords['$'])\n",
    "stopwords[0:5]"
   ]
  },
  {
   "cell_type": "code",
   "execution_count": 87,
   "metadata": {
    "scrolled": true
   },
   "outputs": [
    {
     "data": {
      "text/plain": [
       "['苏伦大',\n",
       " '数据',\n",
       " '科技',\n",
       " '研究院',\n",
       " '英国皇家',\n",
       " '工程院',\n",
       " '院士',\n",
       " '欧洲',\n",
       " '科学院',\n",
       " '院士',\n",
       " '英国',\n",
       " '帝国',\n",
       " '理工学院',\n",
       " '终身',\n",
       " '教授',\n",
       " '郭毅',\n",
       " '创立',\n",
       " '担任',\n",
       " '院长',\n",
       " '旨在',\n",
       " '建设',\n",
       " '成',\n",
       " '专业',\n",
       " '新型',\n",
       " '研发',\n",
       " '机构',\n",
       " '打造',\n",
       " '全球',\n",
       " '首个',\n",
       " 'AI',\n",
       " '人工智能',\n",
       " '教育',\n",
       " 'BI',\n",
       " '商业智能',\n",
       " '赋能',\n",
       " 'GI',\n",
       " '全球',\n",
       " '创新',\n",
       " '孵化',\n",
       " '核心',\n",
       " 'O2O',\n",
       " '数据',\n",
       " '科技',\n",
       " '生态系统']"
      ]
     },
     "execution_count": 87,
     "metadata": {},
     "output_type": "execute_result"
    }
   ],
   "source": [
    "data_s = []\n",
    "for i in data:\n",
    "    if i not in stopwords:\n",
    "        data_s.append(i)\n",
    "data_s    # 过滤掉停用词后的文本"
   ]
  },
  {
   "cell_type": "markdown",
   "metadata": {},
   "source": [
    "#### 2.2、使用 IF-IDF 算法提取关键词"
   ]
  },
  {
   "cell_type": "code",
   "execution_count": 79,
   "metadata": {},
   "outputs": [
    {
     "name": "stdout",
     "output_type": "stream",
     "text": [
      "院士/工程院/苏伦大/郭毅/AI/"
     ]
    }
   ],
   "source": [
    "# TF-IDF算法\n",
    "def tfidf_extract(text, keyword_num=10):\n",
    "    tfidf = analyse.extract_tags\n",
    "    analyse.set_stop_words(r'C:\\Users\\TaoZhiyuan\\Desktop\\交付任务\\任务二\\【顺序-2】{开发中}（2）关键词抽取\\stopwords.txt')\n",
    "    keywords = tfidf(text, keyword_num)\n",
    "    # 输出抽取的关键词\n",
    "    for keyword in keywords:\n",
    "        print(keyword + '/', end='')\n",
    "\n",
    "tfidf_extract(text, 5)"
   ]
  },
  {
   "cell_type": "markdown",
   "metadata": {},
   "source": [
    "#### 2.3、使用 TextRank 算法提取关键词"
   ]
  },
  {
   "cell_type": "code",
   "execution_count": 78,
   "metadata": {},
   "outputs": [
    {
     "name": "stdout",
     "output_type": "stream",
     "text": [
      "全球/ 院士/ 数据/ 科技/ 研究院/ \n"
     ]
    }
   ],
   "source": [
    "# TextRank算法\n",
    "# TextRank算法\n",
    "def textrank_extract(text,keyword_num=10):\n",
    "    textrank = analyse.textrank\n",
    "    analyse.set_stop_words(r'C:\\Users\\TaoZhiyuan\\Desktop\\交付任务\\任务二\\【顺序-2】{开发中}（2）关键词抽取\\stopwords.txt')\n",
    "    keywords = textrank(text, keyword_num)\n",
    "    # 输出抽取出的关键词\n",
    "    for keyword in keywords:\n",
    "        print(keyword + \"/ \", end='')\n",
    "    print()\n",
    "    \n",
    "textrank_extract(text,5)"
   ]
  }
 ],
 "metadata": {
  "kernelspec": {
   "display_name": "Python 3 (ipykernel)",
   "language": "python",
   "name": "python3"
  },
  "language_info": {
   "codemirror_mode": {
    "name": "ipython",
    "version": 3
   },
   "file_extension": ".py",
   "mimetype": "text/x-python",
   "name": "python",
   "nbconvert_exporter": "python",
   "pygments_lexer": "ipython3",
   "version": "3.9.7"
  }
 },
 "nbformat": 4,
 "nbformat_minor": 4
}
